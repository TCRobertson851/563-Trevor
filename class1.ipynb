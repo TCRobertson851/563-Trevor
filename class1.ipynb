{
  "nbformat": 4,
  "nbformat_minor": 0,
  "metadata": {
    "colab": {
      "provenance": [],
      "authorship_tag": "ABX9TyOpLJDF9flfpjE4LSJZ/OsA",
      "include_colab_link": true
    },
    "kernelspec": {
      "name": "python3",
      "display_name": "Python 3"
    },
    "language_info": {
      "name": "python"
    }
  },
  "cells": [
    {
      "cell_type": "markdown",
      "metadata": {
        "id": "view-in-github",
        "colab_type": "text"
      },
      "source": [
        "<a href=\"https://colab.research.google.com/github/TCRobertson851/563-Trevor/blob/main/class1.ipynb\" target=\"_parent\"><img src=\"https://colab.research.google.com/assets/colab-badge.svg\" alt=\"Open In Colab\"/></a>"
      ]
    },
    {
      "cell_type": "code",
      "execution_count": 3,
      "metadata": {
        "id": "Kt7YQJn9tbEF"
      },
      "outputs": [],
      "source": [
        "# Figure out how many ways to fit 20 particles in a volume of 4b x 4b\n",
        "\n",
        "\n",
        "#system properties\n",
        "N = 20\n",
        "sizeX = 4000000000\n",
        "sizeY = 4000000000"
      ]
    },
    {
      "cell_type": "code",
      "source": [],
      "metadata": {
        "id": "6lxanE65t-we"
      },
      "execution_count": null,
      "outputs": []
    }
  ]
}