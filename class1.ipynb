{
  "nbformat": 4,
  "nbformat_minor": 0,
  "metadata": {
    "colab": {
      "provenance": [],
      "authorship_tag": "ABX9TyOtUGv6KYtJgi3wZzahKW/A",
      "include_colab_link": true
    },
    "kernelspec": {
      "name": "python3",
      "display_name": "Python 3"
    },
    "language_info": {
      "name": "python"
    }
  },
  "cells": [
    {
      "cell_type": "markdown",
      "metadata": {
        "id": "view-in-github",
        "colab_type": "text"
      },
      "source": [
        "<a href=\"https://colab.research.google.com/github/TCRobertson851/563-Trevor/blob/main/class1.ipynb\" target=\"_parent\"><img src=\"https://colab.research.google.com/assets/colab-badge.svg\" alt=\"Open In Colab\"/></a>"
      ]
    },
    {
      "cell_type": "code",
      "execution_count": 41,
      "metadata": {
        "id": "Kt7YQJn9tbEF"
      },
      "outputs": [],
      "source": [
        "# Figure out how many ways to fit 20 particles in a volume of 4b x 4b\n",
        "\n",
        "\n",
        "#system properties\n",
        "N = 20\n",
        "sizeX = 4*10**9\n",
        "sizeY = 4*10**9"
      ]
    },
    {
      "cell_type": "code",
      "source": [
        "possible_locations = sizeX*sizeY\n",
        "\n",
        "print(possible_locations)"
      ],
      "metadata": {
        "id": "6lxanE65t-we",
        "outputId": "1c93a597-ac08-4f6e-f913-49d33a497c28",
        "colab": {
          "base_uri": "https://localhost:8080/"
        }
      },
      "execution_count": 42,
      "outputs": [
        {
          "output_type": "stream",
          "name": "stdout",
          "text": [
            "16000000000000000000\n"
          ]
        }
      ]
    },
    {
      "cell_type": "code",
      "source": [
        "configs = possible_locations**N\n",
        "\n",
        "print(configs)\n",
        "\n",
        "persec = 267*10**7\n",
        "\n",
        "numberperhour = persec*3600*24*365\n",
        "\n",
        "print(numberperhour)"
      ],
      "metadata": {
        "id": "Wl1f0VImxBeZ",
        "outputId": "117bae7d-f631-4685-a964-ea9a434729a9",
        "colab": {
          "base_uri": "https://localhost:8080/"
        }
      },
      "execution_count": 52,
      "outputs": [
        {
          "output_type": "stream",
          "name": "stdout",
          "text": [
            "1208925819614629174706176000000000000000000000000000000000000000000000000000000000000000000000000000000000000000000000000000000000000000000000000000000000000000000000000000000000000000000000000000000000000000000000000000000000000000000000000000000000000000000000000000000000000000000000000000000000000000000000000000000000000000000000000000000000000000000000000000000000000000000000000\n",
            "84201120000000000\n"
          ]
        }
      ]
    },
    {
      "cell_type": "code",
      "source": [
        "time = ((possible_locations**20)//(numberperhour))"
      ],
      "metadata": {
        "id": "E6-qdI7_z6Gi"
      },
      "execution_count": 53,
      "outputs": []
    },
    {
      "cell_type": "code",
      "source": [
        "print(time//10**360)"
      ],
      "metadata": {
        "id": "ZX54zEhY0DFy",
        "outputId": "6f74017b-39fa-4d61-a8b0-f804198116cb",
        "colab": {
          "base_uri": "https://localhost:8080/"
        }
      },
      "execution_count": 58,
      "outputs": [
        {
          "output_type": "stream",
          "name": "stdout",
          "text": [
            "14357597\n"
          ]
        }
      ]
    },
    {
      "cell_type": "code",
      "source": [],
      "metadata": {
        "id": "Q22kN1Oc0h_i"
      },
      "execution_count": null,
      "outputs": []
    }
  ]
}