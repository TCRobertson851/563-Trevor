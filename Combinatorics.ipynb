{
  "nbformat": 4,
  "nbformat_minor": 0,
  "metadata": {
    "colab": {
      "provenance": [],
      "authorship_tag": "ABX9TyNoLa+DvnPpyacmcjN9jyRi",
      "include_colab_link": true
    },
    "kernelspec": {
      "name": "python3",
      "display_name": "Python 3"
    },
    "language_info": {
      "name": "python"
    }
  },
  "cells": [
    {
      "cell_type": "markdown",
      "metadata": {
        "id": "view-in-github",
        "colab_type": "text"
      },
      "source": [
        "<a href=\"https://colab.research.google.com/github/TCRobertson851/563-Trevor/blob/main/Combinatorics.ipynb\" target=\"_parent\"><img src=\"https://colab.research.google.com/assets/colab-badge.svg\" alt=\"Open In Colab\"/></a>"
      ]
    },
    {
      "cell_type": "markdown",
      "source": [
        "Week 1 Homework - Trevor Robertson"
      ],
      "metadata": {
        "id": "l9ilbWtmDOaZ"
      }
    },
    {
      "cell_type": "code",
      "source": [
        "#Imports\n",
        "\n",
        "import math\n",
        "from tabulate import tabulate"
      ],
      "metadata": {
        "id": "L-S2OjtgFPKw"
      },
      "execution_count": 48,
      "outputs": []
    },
    {
      "cell_type": "code",
      "execution_count": 34,
      "metadata": {
        "id": "asTGVltDDNR_"
      },
      "outputs": [],
      "source": [
        "#this area is saved for recurring variables and functions.\n",
        "\n",
        "def entropy(Omega):\n",
        "  #This function outputs the entropy based on the number of degenerate states, omega\n",
        "\n",
        "  return (1.38066e-23)*math.log(Omega)\n",
        "kb = 1.38066e-23 #Joules/Kelvin\n",
        "Av = 6.022e23"
      ]
    },
    {
      "cell_type": "markdown",
      "source": [
        "Question 1.1:"
      ],
      "metadata": {
        "id": "e_JQ09EEDWHY"
      }
    },
    {
      "cell_type": "code",
      "source": [
        "Omega1 = 1e20\n",
        "Omega2 = 1e22\n",
        "\n",
        "Answer_1 = Omega1*Omega2\n",
        "Answer_2 = entropy(Answer_1)\n",
        "Answer_3 = entropy(Omega1)\n",
        "Answer_4 = entropy(Omega2)\n",
        "\n",
        "print('The total number of configurations is ' + str(Answer_1))\n",
        "print('The total entropy of the system is S = ' + str(Answer_2) + ' J/K')\n",
        "print('The entropy of subsystem A1 is S1 = ' + str(Answer_3) + ' J/K')\n",
        "print('The entropy of subsystem A2 is S2 = ' + str(Answer_4) + ' J/K')"
      ],
      "metadata": {
        "colab": {
          "base_uri": "https://localhost:8080/"
        },
        "id": "fIvCwEk9FICS",
        "outputId": "ae6f68c7-f637-44c8-d096-4574644f7d51"
      },
      "execution_count": 12,
      "outputs": [
        {
          "output_type": "stream",
          "name": "stdout",
          "text": [
            "The total number of configurations is 1e+42\n",
            "The total entropy of the system is S = 1.3352165964871268e-21 J/K\n",
            "The entropy of subsystem A1 is S1 = 6.358174268986318e-22 J/K\n",
            "The entropy of subsystem A2 is S2 = 6.99399169588495e-22 J/K\n"
          ]
        }
      ]
    },
    {
      "cell_type": "markdown",
      "source": [
        "Question 1.2:"
      ],
      "metadata": {
        "id": "KZ2eF_-QH_J4"
      }
    },
    {
      "cell_type": "code",
      "source": [
        "V0 = 10 #meters3\n",
        "Vfactor = 1.00001 #0.001% -> 0.00001\n",
        "P0 = 101325 #pascals\n",
        "T = 300 #Kelvin - this is isothermal and thus preserved\n",
        "dV = V0 * (Vfactor - 1)\n",
        "\n",
        "# S = kb * ln(Omega)\n",
        "# Omega = exp(S / kb) -> Factor = Omega1/Omega0 = exp((S1-S0))\n",
        "# S1-S0 = dE/T\n",
        "# dE = int(P(V) dV)\n",
        "# dE = nRT * int(dV/V) = nRT ln(V1/V0) = nRT ln (1.00001) = P0 * V0 * ln(1.00001)\n",
        "# S1-S0 = P0*V0*ln(1.00001) / T0\n",
        "# Factor = exp(P0 * V0 * ln(1.00001) / (kb * T))\n",
        "\n",
        "Answer_5 = math.exp(P0 * V0 * math.log(Vfactor) / (T))\n",
        "\n",
        "\n",
        "print('The expanded gas increases the number of configurations by a factor of ' + str(Answer_5))"
      ],
      "metadata": {
        "colab": {
          "base_uri": "https://localhost:8080/"
        },
        "id": "F_KSpolBHTMh",
        "outputId": "e07d6df9-6f6d-4f79-8d58-1dfdd64f3fcc"
      },
      "execution_count": 33,
      "outputs": [
        {
          "output_type": "stream",
          "name": "stdout",
          "text": [
            "The expanded gas increases the number of configurations by a factor of 1.0343516767028023\n"
          ]
        }
      ]
    },
    {
      "cell_type": "markdown",
      "source": [
        "Question 1.3:"
      ],
      "metadata": {
        "id": "gr2rmdSyUJdU"
      }
    },
    {
      "cell_type": "code",
      "source": [
        "# dS = dE/T\n",
        "\n",
        "Answer_6 = math.exp(150/(2*Av*kb*T))\n",
        "print(\"The system's configurations increase by a factor of \" + str(Answer_6) + \" when 150 kJ is added\")"
      ],
      "metadata": {
        "colab": {
          "base_uri": "https://localhost:8080/"
        },
        "id": "c8_Sx7LxPuyN",
        "outputId": "c359b0ab-97b4-45a8-f362-7628c15fa75b"
      },
      "execution_count": 39,
      "outputs": [
        {
          "output_type": "stream",
          "name": "stdout",
          "text": [
            "The system's configurations increase by a factor of 1.0305251761113814 when 150 kJ is added\n"
          ]
        }
      ]
    },
    {
      "cell_type": "code",
      "source": [
        "Table = [\n",
        "         ['1e','2e','3e','4e','5e'],\n",
        "         ['','1e + 1e', '3 x 1e', '4 x 1e', '5 x 1e'],\n",
        "         ['','','2e + 1e', '2e + 2e', '2 x 2e + 1e'],\n",
        "         ['','','','3e + 1e', '3e + 2e'],\n",
        "         ['','','','','4e + 1e']\n",
        "        ]\n",
        "\n",
        "headers = ['1e','2e','3e','4e','5e']\n",
        "\n",
        "print(tabulate(Table, headers, tablefmt=\"grid\"))\n",
        "\n",
        "print('5e is most probable since there are the most configurations available to achieve this total.')"
      ],
      "metadata": {
        "colab": {
          "base_uri": "https://localhost:8080/"
        },
        "id": "eJ4bvXShcMdL",
        "outputId": "ccaaadf4-5e9b-4a0a-fd39-40b583b78715"
      },
      "execution_count": 54,
      "outputs": [
        {
          "output_type": "stream",
          "name": "stdout",
          "text": [
            "+------+---------+---------+---------+-------------+\n",
            "| 1e   | 2e      | 3e      | 4e      | 5e          |\n",
            "+======+=========+=========+=========+=============+\n",
            "| 1e   | 2e      | 3e      | 4e      | 5e          |\n",
            "+------+---------+---------+---------+-------------+\n",
            "|      | 1e + 1e | 3 x 1e  | 4 x 1e  | 5 x 1e      |\n",
            "+------+---------+---------+---------+-------------+\n",
            "|      |         | 2e + 1e | 2e + 2e | 2 x 2e + 1e |\n",
            "+------+---------+---------+---------+-------------+\n",
            "|      |         |         | 3e + 1e | 3e + 2e     |\n",
            "+------+---------+---------+---------+-------------+\n",
            "|      |         |         |         | 4e + 1e     |\n",
            "+------+---------+---------+---------+-------------+\n",
            "5e is most probable since there are the most configurations available to achieve this total.\n"
          ]
        }
      ]
    },
    {
      "cell_type": "code",
      "source": [
        "|"
      ],
      "metadata": {
        "id": "9YLm-Keqde15"
      },
      "execution_count": null,
      "outputs": []
    }
  ]
}